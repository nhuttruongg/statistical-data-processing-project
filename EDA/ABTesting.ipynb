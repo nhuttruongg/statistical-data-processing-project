{
 "cells": [
  {
   "cell_type": "code",
   "execution_count": 3,
   "metadata": {
    "vscode": {
     "languageId": "r"
    }
   },
   "outputs": [],
   "source": [
    "library(janitor)\n",
    "library(tidyverse)\n",
    "library(ggplot2)"
   ]
  },
  {
   "cell_type": "code",
   "execution_count": 11,
   "metadata": {
    "vscode": {
     "languageId": "r"
    }
   },
   "outputs": [
    {
     "name": "stdout",
     "output_type": "stream",
     "text": [
      "Rows: 253,680\n",
      "Columns: 22\n",
      "$ diabetes_012           \u001b[3m\u001b[90m<dbl>\u001b[39m\u001b[23m 0, 0, 0, 0, 0, 0, 0, 0, 2, 0, 2, 0, 0, 2, 0, 0,…\n",
      "$ high_bp                \u001b[3m\u001b[90m<dbl>\u001b[39m\u001b[23m 1, 0, 1, 1, 1, 1, 1, 1, 1, 0, 0, 1, 0, 1, 0, 1,…\n",
      "$ high_chol              \u001b[3m\u001b[90m<dbl>\u001b[39m\u001b[23m 1, 0, 1, 0, 1, 1, 0, 1, 1, 0, 0, 1, 0, 1, 1, 0,…\n",
      "$ chol_check             \u001b[3m\u001b[90m<dbl>\u001b[39m\u001b[23m 1, 0, 1, 1, 1, 1, 1, 1, 1, 1, 1, 1, 1, 1, 1, 1,…\n",
      "$ bmi                    \u001b[3m\u001b[90m<dbl>\u001b[39m\u001b[23m 40, 25, 28, 27, 24, 25, 30, 25, 30, 24, 25, 34,…\n",
      "$ smoker                 \u001b[3m\u001b[90m<dbl>\u001b[39m\u001b[23m 1, 1, 0, 0, 0, 1, 1, 1, 1, 0, 1, 1, 1, 0, 1, 0,…\n",
      "$ stroke                 \u001b[3m\u001b[90m<dbl>\u001b[39m\u001b[23m 0, 0, 0, 0, 0, 0, 0, 0, 0, 0, 0, 0, 0, 0, 1, 0,…\n",
      "$ heart_diseaseor_attack \u001b[3m\u001b[90m<dbl>\u001b[39m\u001b[23m 0, 0, 0, 0, 0, 0, 0, 0, 1, 0, 0, 0, 0, 0, 0, 0,…\n",
      "$ phys_activity          \u001b[3m\u001b[90m<dbl>\u001b[39m\u001b[23m 0, 1, 0, 1, 1, 1, 0, 1, 0, 0, 1, 0, 0, 0, 1, 1,…\n",
      "$ fruits                 \u001b[3m\u001b[90m<dbl>\u001b[39m\u001b[23m 0, 0, 1, 1, 1, 1, 0, 0, 1, 0, 1, 1, 0, 0, 0, 0,…\n",
      "$ veggies                \u001b[3m\u001b[90m<dbl>\u001b[39m\u001b[23m 1, 0, 0, 1, 1, 1, 0, 1, 1, 1, 1, 1, 1, 1, 1, 0,…\n",
      "$ hvy_alcohol_consump    \u001b[3m\u001b[90m<dbl>\u001b[39m\u001b[23m 0, 0, 0, 0, 0, 0, 0, 0, 0, 0, 0, 0, 0, 0, 0, 0,…\n",
      "$ any_healthcare         \u001b[3m\u001b[90m<dbl>\u001b[39m\u001b[23m 1, 0, 1, 1, 1, 1, 1, 1, 1, 1, 1, 1, 1, 1, 1, 1,…\n",
      "$ no_docbc_cost          \u001b[3m\u001b[90m<dbl>\u001b[39m\u001b[23m 0, 1, 1, 0, 0, 0, 0, 0, 0, 0, 0, 0, 0, 0, 1, 0,…\n",
      "$ gen_hlth               \u001b[3m\u001b[90m<dbl>\u001b[39m\u001b[23m 5, 3, 5, 2, 2, 2, 3, 3, 5, 2, 3, 3, 3, 4, 4, 2,…\n",
      "$ ment_hlth              \u001b[3m\u001b[90m<dbl>\u001b[39m\u001b[23m 18, 0, 30, 0, 3, 0, 0, 0, 30, 0, 0, 0, 0, 0, 30…\n",
      "$ phys_hlth              \u001b[3m\u001b[90m<dbl>\u001b[39m\u001b[23m 15, 0, 30, 0, 0, 2, 14, 0, 30, 0, 0, 30, 15, 0,…\n",
      "$ diff_walk              \u001b[3m\u001b[90m<dbl>\u001b[39m\u001b[23m 1, 0, 1, 0, 0, 0, 0, 1, 1, 0, 0, 1, 0, 1, 0, 0,…\n",
      "$ sex                    \u001b[3m\u001b[90m<dbl>\u001b[39m\u001b[23m 0, 0, 0, 0, 0, 1, 0, 0, 0, 1, 1, 0, 0, 0, 0, 0,…\n",
      "$ age                    \u001b[3m\u001b[90m<dbl>\u001b[39m\u001b[23m 9, 7, 9, 11, 11, 10, 9, 11, 9, 8, 13, 10, 7, 11…\n",
      "$ education              \u001b[3m\u001b[90m<dbl>\u001b[39m\u001b[23m 4, 6, 4, 3, 5, 6, 6, 4, 5, 4, 6, 5, 5, 4, 6, 6,…\n",
      "$ income                 \u001b[3m\u001b[90m<dbl>\u001b[39m\u001b[23m 3, 1, 8, 6, 4, 8, 7, 4, 1, 3, 8, 1, 7, 6, 2, 8,…\n"
     ]
    }
   ],
   "source": [
    "data <- read.csv(\"../data/diabetes_012_health_indicators_BRFSS2015.csv\", na=c(\"\", \"NA\", \"N/A\")) |> clean_names()\n",
    "glimpse(data)"
   ]
  },
  {
   "cell_type": "code",
   "execution_count": 14,
   "metadata": {
    "vscode": {
     "languageId": "r"
    }
   },
   "outputs": [],
   "source": [
    "unique_counts <- data.frame(\n",
    "    variable = names(data),\n",
    "    unique_count = sapply(data, function(x) length(unique(x)))\n",
    ")\n",
    "qualitative_vars <- unique_counts |> filter(unique_count <= 13) |> pull(variable)\n",
    "data[qualitative_vars] <- lapply(data[qualitative_vars], as.factor)"
   ]
  },
  {
   "cell_type": "code",
   "execution_count": 15,
   "metadata": {
    "vscode": {
     "languageId": "r"
    }
   },
   "outputs": [
    {
     "name": "stdout",
     "output_type": "stream",
     "text": [
      "Rows: 253,680\n",
      "Columns: 22\n",
      "$ diabetes_012           \u001b[3m\u001b[90m<fct>\u001b[39m\u001b[23m 0, 0, 0, 0, 0, 0, 0, 0, 2, 0, 2, 0, 0, 2, 0, 0,…\n",
      "$ high_bp                \u001b[3m\u001b[90m<fct>\u001b[39m\u001b[23m 1, 0, 1, 1, 1, 1, 1, 1, 1, 0, 0, 1, 0, 1, 0, 1,…\n",
      "$ high_chol              \u001b[3m\u001b[90m<fct>\u001b[39m\u001b[23m 1, 0, 1, 0, 1, 1, 0, 1, 1, 0, 0, 1, 0, 1, 1, 0,…\n",
      "$ chol_check             \u001b[3m\u001b[90m<fct>\u001b[39m\u001b[23m 1, 0, 1, 1, 1, 1, 1, 1, 1, 1, 1, 1, 1, 1, 1, 1,…\n",
      "$ bmi                    \u001b[3m\u001b[90m<dbl>\u001b[39m\u001b[23m 40, 25, 28, 27, 24, 25, 30, 25, 30, 24, 25, 34,…\n",
      "$ smoker                 \u001b[3m\u001b[90m<fct>\u001b[39m\u001b[23m 1, 1, 0, 0, 0, 1, 1, 1, 1, 0, 1, 1, 1, 0, 1, 0,…\n",
      "$ stroke                 \u001b[3m\u001b[90m<fct>\u001b[39m\u001b[23m 0, 0, 0, 0, 0, 0, 0, 0, 0, 0, 0, 0, 0, 0, 1, 0,…\n",
      "$ heart_diseaseor_attack \u001b[3m\u001b[90m<fct>\u001b[39m\u001b[23m 0, 0, 0, 0, 0, 0, 0, 0, 1, 0, 0, 0, 0, 0, 0, 0,…\n",
      "$ phys_activity          \u001b[3m\u001b[90m<fct>\u001b[39m\u001b[23m 0, 1, 0, 1, 1, 1, 0, 1, 0, 0, 1, 0, 0, 0, 1, 1,…\n",
      "$ fruits                 \u001b[3m\u001b[90m<fct>\u001b[39m\u001b[23m 0, 0, 1, 1, 1, 1, 0, 0, 1, 0, 1, 1, 0, 0, 0, 0,…\n",
      "$ veggies                \u001b[3m\u001b[90m<fct>\u001b[39m\u001b[23m 1, 0, 0, 1, 1, 1, 0, 1, 1, 1, 1, 1, 1, 1, 1, 0,…\n",
      "$ hvy_alcohol_consump    \u001b[3m\u001b[90m<fct>\u001b[39m\u001b[23m 0, 0, 0, 0, 0, 0, 0, 0, 0, 0, 0, 0, 0, 0, 0, 0,…\n",
      "$ any_healthcare         \u001b[3m\u001b[90m<fct>\u001b[39m\u001b[23m 1, 0, 1, 1, 1, 1, 1, 1, 1, 1, 1, 1, 1, 1, 1, 1,…\n",
      "$ no_docbc_cost          \u001b[3m\u001b[90m<fct>\u001b[39m\u001b[23m 0, 1, 1, 0, 0, 0, 0, 0, 0, 0, 0, 0, 0, 0, 1, 0,…\n",
      "$ gen_hlth               \u001b[3m\u001b[90m<fct>\u001b[39m\u001b[23m 5, 3, 5, 2, 2, 2, 3, 3, 5, 2, 3, 3, 3, 4, 4, 2,…\n",
      "$ ment_hlth              \u001b[3m\u001b[90m<dbl>\u001b[39m\u001b[23m 18, 0, 30, 0, 3, 0, 0, 0, 30, 0, 0, 0, 0, 0, 30…\n",
      "$ phys_hlth              \u001b[3m\u001b[90m<dbl>\u001b[39m\u001b[23m 15, 0, 30, 0, 0, 2, 14, 0, 30, 0, 0, 30, 15, 0,…\n",
      "$ diff_walk              \u001b[3m\u001b[90m<fct>\u001b[39m\u001b[23m 1, 0, 1, 0, 0, 0, 0, 1, 1, 0, 0, 1, 0, 1, 0, 0,…\n",
      "$ sex                    \u001b[3m\u001b[90m<fct>\u001b[39m\u001b[23m 0, 0, 0, 0, 0, 1, 0, 0, 0, 1, 1, 0, 0, 0, 0, 0,…\n",
      "$ age                    \u001b[3m\u001b[90m<fct>\u001b[39m\u001b[23m 9, 7, 9, 11, 11, 10, 9, 11, 9, 8, 13, 10, 7, 11…\n",
      "$ education              \u001b[3m\u001b[90m<fct>\u001b[39m\u001b[23m 4, 6, 4, 3, 5, 6, 6, 4, 5, 4, 6, 5, 5, 4, 6, 6,…\n",
      "$ income                 \u001b[3m\u001b[90m<fct>\u001b[39m\u001b[23m 3, 1, 8, 6, 4, 8, 7, 4, 1, 3, 8, 1, 7, 6, 2, 8,…\n"
     ]
    }
   ],
   "source": [
    "glimpse(data)"
   ]
  },
  {
   "cell_type": "code",
   "execution_count": null,
   "metadata": {
    "vscode": {
     "languageId": "r"
    }
   },
   "outputs": [],
   "source": []
  }
 ],
 "metadata": {
  "kernelspec": {
   "display_name": "R",
   "language": "R",
   "name": "ir"
  },
  "language_info": {
   "codemirror_mode": "r",
   "file_extension": ".r",
   "mimetype": "text/x-r-source",
   "name": "R",
   "pygments_lexer": "r",
   "version": "4.4.2"
  }
 },
 "nbformat": 4,
 "nbformat_minor": 2
}
